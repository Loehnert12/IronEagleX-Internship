{
 "cells": [
  {
   "cell_type": "code",
   "execution_count": null,
   "metadata": {},
   "outputs": [],
   "source": [
    "import pandas as pd\n",
    "import numpy as np\n",
    "import matplotlib.pyplot as plt\n",
    "from sklearn.neighbors import KNeighborsClassifier\n",
    "from sklearn.preprocessing import StandardScaler\n",
    "from sklearn.pipeline import Pipeline\n",
    "from sklearn.preprocessing import MinMaxScaler\n",
    "from sklearn.preprocessing import RobustScaler\n",
    "from sklearn.preprocessing import MaxAbsScaler"
   ]
  },
  {
   "cell_type": "code",
   "execution_count": null,
   "metadata": {},
   "outputs": [],
   "source": [
    "# Load in data\n",
    "titanic_train = pd.read_csv('train.csv')\n",
    "titanic_test = pd.read_csv('test.csv')\n",
    "titanic_submission = pd.read_csv('submission.csv')\n",
    "titanic_train.head()"
   ]
  },
  {
   "cell_type": "code",
   "execution_count": null,
   "metadata": {},
   "outputs": [],
   "source": [
    "# Replace missing age values\n",
    "titanic_train['Age'].fillna(value = round(titanic_train['Age'].mean()), inplace=True)"
   ]
  },
  {
   "cell_type": "code",
   "execution_count": null,
   "metadata": {},
   "outputs": [],
   "source": [
    "# Change any string values into integers \n",
    "titanic_train['Sex'] = titanic_train.Sex.map({\"male\": 0, \"female\": 1})"
   ]
  },
  {
   "cell_type": "code",
   "execution_count": null,
   "metadata": {},
   "outputs": [],
   "source": [
    "# Split data into target and featured variables\n",
    "X = titanic_train.drop(columns = ['PassengerId','Name','Ticket','Survived', 'Cabin', 'Embarked'],axis=1)\n",
    "Y = titanic_train['Survived']"
   ]
  },
  {
   "cell_type": "code",
   "execution_count": null,
   "metadata": {},
   "outputs": [],
   "source": [
    "MinMaxScaler = MinMaxScaler()\n",
    "X_Min = MinMaxScaler.fit_transform(X)\n",
    "\n",
    "RobustScaler = RobustScaler()\n",
    "X_Robust = RobustScaler.fit_transform(X)\n",
    "\n",
    "MaxAbsScaler = MaxAbsScaler()\n",
    "X_Max = MaxAbsScaler.fit_transform(X)"
   ]
  },
  {
   "cell_type": "code",
   "execution_count": null,
   "metadata": {},
   "outputs": [],
   "source": [
    "# Create the KNN Model\n",
    "\n",
    "KNN1 = KNeighborsClassifier(n_neighbors=2).fit(X,Y)\n",
    "KNN2 = KNeighborsClassifier(n_neighbors=2).fit(X_Min,Y)\n",
    "KNN3 = KNeighborsClassifier(n_neighbors=2).fit(X_Robust,Y)\n",
    "KNN4 = KNeighborsClassifier(n_neighbors=2).fit(X_Max,Y)\n",
    "\n",
    "# KNN1 = KNeighborsClassifier(n_neighbors=3).fit(X,Y)\n",
    "# KNN2 = KNeighborsClassifier(n_neighbors=3).fit(X_Min,Y)\n",
    "# KNN3 = KNeighborsClassifier(n_neighbors=3).fit(X_Robust,Y)\n",
    "# KNN4 = KNeighborsClassifier(n_neighbors=3).fit(X_Max,Y)\n",
    "\n",
    "# KNN1 = KNeighborsClassifier(n_neighbors=4).fit(X,Y)\n",
    "# KNN2 = KNeighborsClassifier(n_neighbors=4).fit(X_Min,Y)\n",
    "# KNN3 = KNeighborsClassifier(n_neighbors=4).fit(X_Robust,Y)\n",
    "# KNN4 = KNeighborsClassifier(n_neighbors=4).fit(X_Max,Y)\n",
    "\n",
    "# KNN1 = KNeighborsClassifier(n_neighbors=5).fit(X,Y)\n",
    "# KNN2 = KNeighborsClassifier(n_neighbors=5).fit(X_Min,Y)\n",
    "# KNN3 = KNeighborsClassifier(n_neighbors=5).fit(X_Robust,Y)\n",
    "# KNN4 = KNeighborsClassifier(n_neighbors=5).fit(X_Max,Y)\n"
   ]
  },
  {
   "cell_type": "code",
   "execution_count": null,
   "metadata": {},
   "outputs": [],
   "source": [
    "print(round(KNN1.score(X,Y), 4))\n",
    "print(round(KNN2.score(X_Min,Y), 4))\n",
    "print(round(KNN3.score(X_Robust,Y), 4))\n",
    "print(round(KNN4.score(X_Max,Y), 4))\n"
   ]
  },
  {
   "cell_type": "code",
   "execution_count": null,
   "metadata": {},
   "outputs": [],
   "source": [
    "titanic_test['Age'].fillna(value = round(titanic_test['Age'].mean()), inplace=True)\n",
    "titanic_test['Fare'].fillna(value = titanic_test['Fare'].mean(), inplace=True)\n",
    "titanic_test['Sex'] = titanic_test.Sex.map({\"male\": 0, \"female\": 1})\n",
    "X_test = titanic_test.drop(columns = ['PassengerId','Name','Ticket', 'Cabin', 'Embarked'],axis=1)\n",
    "Y_test = titanic_submission['Survived']"
   ]
  },
  {
   "cell_type": "code",
   "execution_count": null,
   "metadata": {},
   "outputs": [],
   "source": [
    "titanic_test.describe()"
   ]
  },
  {
   "cell_type": "code",
   "execution_count": null,
   "metadata": {},
   "outputs": [],
   "source": [
    "from sklearn.preprocessing import MinMaxScaler\n",
    "from sklearn.preprocessing import RobustScaler\n",
    "from sklearn.preprocessing import MaxAbsScaler"
   ]
  },
  {
   "cell_type": "code",
   "execution_count": null,
   "metadata": {},
   "outputs": [],
   "source": [
    "Test_MinMaxScaler = MinMaxScaler()\n",
    "Test_Min = Test_MinMaxScaler.fit_transform(X_test)\n",
    "\n",
    "Test_RobustScaler = RobustScaler()\n",
    "Test_Robust = Test_RobustScaler.fit_transform(X_test)\n",
    "\n",
    "Test_MaxAbsScaler = MaxAbsScaler()\n",
    "Test_Max = Test_MaxAbsScaler.fit_transform(X_test)"
   ]
  },
  {
   "cell_type": "code",
   "execution_count": null,
   "metadata": {},
   "outputs": [],
   "source": [
    "KNN1 = KNeighborsClassifier(n_neighbors=2).fit(X_test,Y_test)\n",
    "KNN2 = KNeighborsClassifier(n_neighbors=2).fit(Test_Min,Y_test)\n",
    "KNN3 = KNeighborsClassifier(n_neighbors=2).fit(Test_Robust,Y_test)\n",
    "KNN4 = KNeighborsClassifier(n_neighbors=2).fit(Test_Max,Y_test)\n",
    "\n",
    "# KNN1 = KNeighborsClassifier(n_neighbors=3).fit(X_test,Y_test)\n",
    "# KNN2 = KNeighborsClassifier(n_neighbors=3).fit(X_Min,Y_test)\n",
    "# KNN3 = KNeighborsClassifier(n_neighbors=3).fit(X_Robust,Y_test)\n",
    "# KNN4 = KNeighborsClassifier(n_neighbors=3).fit(X_Max,Y_test)\n",
    "\n",
    "# KNN1 = KNeighborsClassifier(n_neighbors=4).fit(X_test,Y_test)\n",
    "# KNN2 = KNeighborsClassifier(n_neighbors=4).fit(X_Min,Y_test)\n",
    "# KNN3 = KNeighborsClassifier(n_neighbors=4).fit(X_Robust,Y_test)\n",
    "# KNN4 = KNeighborsClassifier(n_neighbors=4).fit(X_Max,Y_test)\n",
    "\n",
    "# KNN1 = KNeighborsClassifier(n_neighbors=5).fit(X_test,Y_test)\n",
    "# KNN2 = KNeighborsClassifier(n_neighbors=5).fit(X_Min,Y_test)\n",
    "# KNN3 = KNeighborsClassifier(n_neighbors=5).fit(X_Robust,Y_test)\n",
    "# KNN4 = KNeighborsClassifier(n_neighbors=5).fit(X_Max,Y_test)"
   ]
  },
  {
   "cell_type": "code",
   "execution_count": null,
   "metadata": {},
   "outputs": [],
   "source": [
    "# Training\n",
    "print(round(KNN1.score(X,Y), 4))\n",
    "print(round(KNN2.score(X_Min,Y), 4))\n",
    "print(round(KNN3.score(X_Robust,Y), 4))\n",
    "print(round(KNN4.score(X_Max,Y), 4))"
   ]
  },
  {
   "cell_type": "code",
   "execution_count": null,
   "metadata": {},
   "outputs": [],
   "source": [
    "# Test\n",
    "print(round(KNN1.score(X_test,Y_test), 4))\n",
    "print(round(KNN2.score(Test_Min,Y_test), 4))\n",
    "print(round(KNN3.score(Test_Robust,Y_test), 4))\n",
    "print(round(KNN4.score(Test_Max,Y_test), 4))"
   ]
  }
 ],
 "metadata": {
  "kernelspec": {
   "display_name": "Python 3",
   "language": "python",
   "name": "python3"
  },
  "language_info": {
   "codemirror_mode": {
    "name": "ipython",
    "version": 3
   },
   "file_extension": ".py",
   "mimetype": "text/x-python",
   "name": "python",
   "nbconvert_exporter": "python",
   "pygments_lexer": "ipython3",
   "version": "3.11.5"
  }
 },
 "nbformat": 4,
 "nbformat_minor": 2
}
